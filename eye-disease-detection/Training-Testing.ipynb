{
 "cells": [
  {
   "cell_type": "code",
   "execution_count": 1,
   "id": "d3da7e3c",
   "metadata": {},
   "outputs": [],
   "source": [
    "import torch \n",
    "import torch.nn as nn\n",
    "import torch.optim as optim\n",
    "import torch.nn.functional as F\n",
    "from torch.utils.data import DataLoader , Dataset , random_split\n",
    "import torchvision.datasets as datasets \n",
    "import torchvision.transforms as transforms"
   ]
  },
  {
   "cell_type": "code",
   "execution_count": 2,
   "id": "74002961",
   "metadata": {},
   "outputs": [],
   "source": [
    "def trainingStep(model , train_loader , criterion , optimizer , device):\n",
    "    \n",
    "    model.train()\n",
    "    train_loss , correct , samples = 0 , 0 , 0\n",
    "    \n",
    "    for x , y in train_loader:\n",
    "        x , y = x.to(device) , y.to(device)\n",
    "        yPred = model(x)\n",
    "        \n",
    "        loss = criterion(yPred , y)\n",
    "        train_loss += loss.item()\n",
    "        \n",
    "        optimizer.zero_grad()\n",
    "        loss.backward()\n",
    "        optimizer.step()\n",
    "        \n",
    "        correct += (y == yPred.argmax(dim = 1)).sum()\n",
    "        samples += len(y)\n",
    "        \n",
    "    train_loss /= len(train_loader)\n",
    "    acc = round(float(correct/samples)*100,3)\n",
    "    \n",
    "    return train_loss , acc"
   ]
  },
  {
   "cell_type": "code",
   "execution_count": 3,
   "id": "53db23dd",
   "metadata": {},
   "outputs": [],
   "source": [
    "def testingStep(model , test_loader , criterion , device):\n",
    "    \n",
    "    test_loss , correct , samples = 0 , 0 , 0\n",
    "    model.eval()\n",
    "    with torch.inference_mode():\n",
    "        \n",
    "        for x , y in test_loader:\n",
    "\n",
    "            x , y = x.to(device) , y.to(device)\n",
    "            yPred = model(x)\n",
    "\n",
    "            loss = criterion(yPred , y)\n",
    "            test_loss += loss.item()\n",
    "            \n",
    "            correct += (y==yPred.argmax(dim = 1)).sum()\n",
    "            samples += len(y)\n",
    "    \n",
    "    test_loss /= len(test_loader)\n",
    "    acc = round(float(correct/samples)*100,3)\n",
    "    \n",
    "    return test_loss , acc"
   ]
  },
  {
   "cell_type": "code",
   "execution_count": null,
   "id": "c141e4f8",
   "metadata": {},
   "outputs": [],
   "source": []
  }
 ],
 "metadata": {
  "kernelspec": {
   "display_name": "Python 3 (ipykernel)",
   "language": "python",
   "name": "python3"
  },
  "language_info": {
   "codemirror_mode": {
    "name": "ipython",
    "version": 3
   },
   "file_extension": ".py",
   "mimetype": "text/x-python",
   "name": "python",
   "nbconvert_exporter": "python",
   "pygments_lexer": "ipython3",
   "version": "3.9.7"
  }
 },
 "nbformat": 4,
 "nbformat_minor": 5
}
