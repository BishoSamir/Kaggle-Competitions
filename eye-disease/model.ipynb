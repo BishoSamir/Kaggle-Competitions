{
 "cells": [
  {
   "cell_type": "code",
   "execution_count": 1,
   "id": "d8d891cc",
   "metadata": {},
   "outputs": [],
   "source": [
    "import torch \n",
    "import torch.nn as nn\n",
    "import torch.optim as optim\n",
    "import torch.nn.functional as F\n",
    "from torch.utils.data import DataLoader , Dataset , random_split\n",
    "import torchvision.datasets as datasets \n",
    "import torchvision.transforms as transforms"
   ]
  },
  {
   "cell_type": "code",
   "execution_count": 6,
   "id": "e235aa11",
   "metadata": {},
   "outputs": [
    {
     "data": {
      "text/plain": [
       "torch.Size([8, 4])"
      ]
     },
     "execution_count": 6,
     "metadata": {},
     "output_type": "execute_result"
    }
   ],
   "source": [
    "class TinyVGG(nn.Module):\n",
    "    def __init__(self , input_shape , hidden_units , output_shape):\n",
    "        super().__init__()\n",
    "        self.conv_block1 = nn.Sequential(\n",
    "        nn.Conv2d(in_channels= input_shape , out_channels= hidden_units,kernel_size=3 , stride=1 , padding=1),\n",
    "        nn.ReLU(),\n",
    "        nn.Conv2d(in_channels= hidden_units , out_channels= hidden_units,kernel_size=3 , stride=1 , padding=1),\n",
    "        nn.ReLU(), \n",
    "        nn.MaxPool2d(kernel_size=2 , stride=2)\n",
    "        )\n",
    "        \n",
    "        self.conv_block2 = nn.Sequential(\n",
    "        nn.Conv2d(in_channels= hidden_units , out_channels= hidden_units,kernel_size=3 , stride=1 , padding=1),\n",
    "        nn.ReLU(),\n",
    "        nn.Conv2d(in_channels= hidden_units , out_channels= hidden_units,kernel_size=3 , stride=1 , padding=1),\n",
    "        nn.ReLU(), \n",
    "        nn.MaxPool2d(kernel_size=2 , stride=2)\n",
    "        )\n",
    "        \n",
    "        self.classifier = nn.Sequential(\n",
    "        nn.Flatten(),\n",
    "        nn.Linear(in_features=hidden_units*56*56 , out_features=output_shape)\n",
    "        )\n",
    "        \n",
    "    def forward(self , x):\n",
    "        # i can do it faster by doing this -> return self.classifer( self.conv2( self.conv1(x) ) ) OR\n",
    "        # i can put it all in nn.Sequential , but i did it to make it more readable to you :)\n",
    "        x = self.conv_block1(x)\n",
    "        x = self.conv_block2(x)\n",
    "        x = self.classifier(x)\n",
    "        return x\n",
    "    \n",
    "model = TinyVGG(input_shape= 3 , hidden_units=10 , output_shape=4).to('cuda')\n",
    "model( torch.randn(8 , 3 , 224 , 224 ).to('cuda') ).shape"
   ]
  },
  {
   "cell_type": "code",
   "execution_count": null,
   "id": "75837161",
   "metadata": {},
   "outputs": [],
   "source": []
  }
 ],
 "metadata": {
  "kernelspec": {
   "display_name": "Python 3 (ipykernel)",
   "language": "python",
   "name": "python3"
  },
  "language_info": {
   "codemirror_mode": {
    "name": "ipython",
    "version": 3
   },
   "file_extension": ".py",
   "mimetype": "text/x-python",
   "name": "python",
   "nbconvert_exporter": "python",
   "pygments_lexer": "ipython3",
   "version": "3.9.7"
  }
 },
 "nbformat": 4,
 "nbformat_minor": 5
}
