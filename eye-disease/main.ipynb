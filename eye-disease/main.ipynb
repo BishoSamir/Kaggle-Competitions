{
 "cells": [
  {
   "cell_type": "code",
   "execution_count": 7,
   "id": "23666102",
   "metadata": {},
   "outputs": [],
   "source": [
    "import pandas as pd \n",
    "import numpy as np \n",
    "import matplotlib.pyplot as plt\n",
    "import seaborn as sns\n",
    "import re  \n",
    "import warnings\n",
    "from pathlib import Path\n",
    "from tqdm import tqdm\n",
    "warnings.filterwarnings(\"ignore\")\n",
    "%matplotlib inline\n",
    "plt.rcParams['figure.figsize'] = [16,8]\n",
    "plt.rcParams['font.size'] =14\n",
    "plt.rcParams['font.weight']= 'bold'\n",
    "sns.set()"
   ]
  },
  {
   "cell_type": "code",
   "execution_count": 2,
   "id": "232315ea",
   "metadata": {},
   "outputs": [],
   "source": [
    "import torch \n",
    "import torch.nn as nn\n",
    "import torch.optim as optim\n",
    "import torch.nn.functional as F\n",
    "from torch.utils.data import DataLoader , Dataset , random_split\n",
    "import torchvision.datasets as datasets \n",
    "import torchvision.transforms as transforms"
   ]
  },
  {
   "cell_type": "code",
   "execution_count": 11,
   "id": "8359f8d2",
   "metadata": {},
   "outputs": [],
   "source": [
    "%run dataset.ipynb import getData\n",
    "\n",
    "train_loader , val_loader , test_loader = getData(224 ,224)\n",
    "\n"
   ]
  },
  {
   "cell_type": "code",
   "execution_count": 27,
   "id": "bbfa195c",
   "metadata": {},
   "outputs": [],
   "source": [
    "from torchvision.models import resnet18\n",
    "%run model.ipynb import TinyVGG\n",
    "from torch.optim import lr_scheduler\n",
    "device = 'cuda' if torch.cuda.is_available() else 'cpu' \n",
    "#model = TinyVGG(input_shape= 3 , hidden_units=10 , output_shape=4).to(device)\n",
    "\n",
    "model = resnet18(pretrained = False)\n",
    "in_features = model.fc.in_features\n",
    "model.fc = nn.Linear(in_features , 4)\n",
    "model.to(device);\n",
    "\n",
    "criterion = nn.CrossEntropyLoss()\n",
    "optimizer = optim.Adam(params = model.parameters() , lr = 1e-4)\n",
    "lr_scheduler = lr_scheduler.StepLR(optimizer ,step_size = 4, gamma = 0.66)"
   ]
  },
  {
   "cell_type": "code",
   "execution_count": 29,
   "id": "1fdec431",
   "metadata": {},
   "outputs": [],
   "source": [
    "%run Training-Testing.ipynb import *\n",
    "\n",
    "trainingLosses , trainingAcc = [] , []\n",
    "valLosses , valAcc = [] , []\n",
    "\n",
    "for epoch in tqdm(range(20)):\n",
    "    \n",
    "    train_loss , train_acc = trainingStep(model , train_loader , criterion , optimizer , device)\n",
    "    val_loss , val_acc = testingStep(model , val_loader , criterion , device)\n",
    "    lr_scheduler.step()\n",
    "    \n",
    "    trainingLosses.append(train_loss)\n",
    "    trainingAcc.append(train_acc)\n",
    "    valLosses.append(val_loss)\n",
    "    valAcc.append(val_acc)\n",
    "    \n",
    "    print(f'trainingLoss = {train_loss} - trainingAcc = {train_acc} | valLoss = {val_loss} - valAcc = {val_acc} ')"
   ]
  },
  {
   "cell_type": "markdown",
   "id": "30f0fa28",
   "metadata": {},
   "source": [
    "Unfrotunately, my laptop can't handle the computational needed even for a small model like resnet18 , so this is a base structure of a model , so i can not predicted what could happen to the model , but i will give you some tips in case of model did not work well with you .<br>\n",
    "Note i tried 4 Epochs just to get sense of how maybe could be efficient,and the result was<br>\n",
    "    Train_acc  |  val_acc<br>\n",
    "1-  65      |     69.5<br>\n",
    "2-  75.8    |     77.3<br>\n",
    "3-  80      |     79.2<br>\n",
    "4-  84      |     82.5<br>\n",
    "So, it looks to be good , but also it can not be reliable for just 4 Epochs\n",
    "<pre>\n",
    "1 - change optimizer learning_rate\n",
    "2 - change optimzer \n",
    "3 - add DataAugmentation for data if needed \n",
    "4 - try googleNet or any other arch (googleNet Recommended)\n",
    "5 - try to train it longer = More epochs\n",
    "6 - if the model overfitting ,Add Reguleraization and  try model more simpler OR\n",
    "make Resnet More simpler if you can (a little bit challenging)\n",
    "\n",
    "finally,when the model works well then Merge the train/validation dataset and train the model again on the whole dataset"
   ]
  },
  {
   "cell_type": "code",
   "execution_count": null,
   "id": "1a59c8c5",
   "metadata": {},
   "outputs": [],
   "source": []
  }
 ],
 "metadata": {
  "kernelspec": {
   "display_name": "Python 3 (ipykernel)",
   "language": "python",
   "name": "python3"
  },
  "language_info": {
   "codemirror_mode": {
    "name": "ipython",
    "version": 3
   },
   "file_extension": ".py",
   "mimetype": "text/x-python",
   "name": "python",
   "nbconvert_exporter": "python",
   "pygments_lexer": "ipython3",
   "version": "3.9.7"
  }
 },
 "nbformat": 4,
 "nbformat_minor": 5
}
