{
 "cells": [
  {
   "cell_type": "code",
   "execution_count": 1,
   "id": "4c254c73",
   "metadata": {},
   "outputs": [],
   "source": [
    "import torch \n",
    "import torch.nn as nn\n",
    "import numpy as np\n"
   ]
  },
  {
   "cell_type": "code",
   "execution_count": 2,
   "id": "b50aaf0b",
   "metadata": {},
   "outputs": [
    {
     "name": "stdout",
     "output_type": "stream",
     "text": [
      "torch.Size([4, 1])\n"
     ]
    }
   ],
   "source": [
    "class LSTM(nn.Module):\n",
    "    \n",
    "    def __init__(self , input_size , hidden_size , n_lstms , n_layers = 3  ) :\n",
    "        super().__init__()\n",
    "        self.input_size = input_size \n",
    "        self.hidden_size = hidden_size\n",
    "        self.n_lstms = n_lstms\n",
    "        self.n_layers = n_layers\n",
    "        self.lstms = self.create_lstms(input_size, hidden_size, n_lstms , n_layers )\n",
    "        self.fc = nn.Linear(hidden_size * n_lstms , 1)\n",
    "\n",
    "    def create_lstms(self, input_size, hidden_size, n_lstms , n_layers):    \n",
    "        models = []\n",
    "        for i in range(n_lstms):\n",
    "            model = nn.LSTM(input_size , hidden_size , n_layers , batch_first = True)\n",
    "            models.append(model)\n",
    "        \n",
    "        return models\n",
    "    \n",
    "    def getModels(self, x , lstms):\n",
    "        results = []\n",
    "        for i in range(x.shape[2]):    \n",
    "            c0 = torch.zeros(self.n_layers , x.size(0) , self.hidden_size)\n",
    "            h0 = torch.zeros(self.n_layers , x.size(0) , self.hidden_size)\n",
    "            model = self.lstms[i]      \n",
    "            out, _ = model(x[: , : ,i].unsqueeze(2), (h0, c0))\n",
    "            out = out[: , -1 , :]\n",
    "            results.append(out)\n",
    "        \n",
    "        z = results[0]\n",
    "        for i in range(1 , x.shape[2]):\n",
    "            z = torch.concat((z , results[i]) , dim =1)\n",
    "        return z\n",
    "\n",
    "    def forward(self , x): \n",
    "        x = self.getModels(x, self.lstms)\n",
    "        return self.fc(x)\n",
    "\n",
    "model = LSTM(1 , 8 , 8 , 2 )\n",
    "data = torch.randn(4 , 16 , 8)\n",
    "\n",
    "#print(model(data).shape)"
   ]
  },
  {
   "cell_type": "code",
   "execution_count": 4,
   "id": "3ba956aa",
   "metadata": {},
   "outputs": [
    {
     "name": "stdout",
     "output_type": "stream",
     "text": [
      "torch.Size([4, 1])\n"
     ]
    }
   ],
   "source": [
    "class ModifiedLSTM(nn.Module):\n",
    "    \n",
    "    def __init__(self , input_size , hidden_size ,  n_layers = 3  ) :\n",
    "        super().__init__()\n",
    "        self.input_size = input_size \n",
    "        self.hidden_size = hidden_size\n",
    "        self.n_layers = n_layers\n",
    "        self.lstm = nn.LSTM(input_size , hidden_size , n_layers , dropout = 0.2 , batch_first = True)\n",
    "        self.fc = nn.Linear(hidden_size , 1)\n",
    "\n",
    "\n",
    "    def forward(self , x): \n",
    "        c0 = torch.zeros(self.n_layers , x.size(0) , self.hidden_size).to('cuda')\n",
    "        h0 = torch.zeros(self.n_layers , x.size(0) , self.hidden_size).to('cuda')\n",
    "        \n",
    "        out , _ = self.lstm(x , (h0, c0))\n",
    "        out = out[: , -1 , :]\n",
    "        \n",
    "        return self.fc(out)\n",
    "\n",
    "model = ModifiedLSTM(3 , 8 ,  2 ).to('cuda')\n",
    "data = torch.randn(4 , 16 , 3).to('cuda')\n",
    "\n",
    "#print(model(data).shape)"
   ]
  },
  {
   "cell_type": "code",
   "execution_count": null,
   "id": "692f28d0",
   "metadata": {},
   "outputs": [],
   "source": []
  }
 ],
 "metadata": {
  "kernelspec": {
   "display_name": "Python 3 (ipykernel)",
   "language": "python",
   "name": "python3"
  },
  "language_info": {
   "codemirror_mode": {
    "name": "ipython",
    "version": 3
   },
   "file_extension": ".py",
   "mimetype": "text/x-python",
   "name": "python",
   "nbconvert_exporter": "python",
   "pygments_lexer": "ipython3",
   "version": "3.9.7"
  }
 },
 "nbformat": 4,
 "nbformat_minor": 5
}
