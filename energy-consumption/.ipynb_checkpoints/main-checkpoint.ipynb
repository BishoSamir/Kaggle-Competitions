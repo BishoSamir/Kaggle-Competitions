{
 "cells": [
  {
   "cell_type": "code",
   "execution_count": 1,
   "id": "feec15a8",
   "metadata": {},
   "outputs": [],
   "source": [
    "import torch\n",
    "import torch.nn as nn\n",
    "import torch.optim as optim\n",
    "import torch.nn.functional as F\n",
    "from tqdm import tqdm"
   ]
  },
  {
   "cell_type": "code",
   "execution_count": 15,
   "id": "f0836d4d",
   "metadata": {},
   "outputs": [],
   "source": [
    "%run dataset.ipynb import *\n",
    "%run model.ipynb import *\n",
    "%run training.ipynb import *"
   ]
  },
  {
   "cell_type": "code",
   "execution_count": 29,
   "id": "76fd0519",
   "metadata": {},
   "outputs": [],
   "source": [
    "train_data , test_data = getData()\n",
    "model = ModifiedLSTM(3 , 64 , 3 ).to('cuda')\n",
    "optimizer = optim.SGD(model.parameters() , lr = 1e-2 , weight_decay=1e-3)\n",
    "criterion = nn.MSELoss()\n"
   ]
  },
  {
   "cell_type": "code",
   "execution_count": 30,
   "id": "89e6773e",
   "metadata": {},
   "outputs": [
    {
     "name": "stdout",
     "output_type": "stream",
     "text": [
      "train_loss = 0.018825504928827286 | test_loss = 0.016768669709563255\n",
      "train_loss = 0.0179930180311203 | test_loss = 0.01672273315489292\n",
      "train_loss = 0.01797630824148655 | test_loss = 0.01668478734791279\n",
      "train_loss = 0.017961939796805382 | test_loss = 0.016650043427944183\n",
      "train_loss = 0.01795053668320179 | test_loss = 0.016621557995676994\n"
     ]
    }
   ],
   "source": [
    "train_losses = []\n",
    "test_losses = []\n",
    "epochs = 5\n",
    "for epoch in range(epochs):\n",
    "\n",
    "    train_loss = training(model , train_data , criterion , optimizer)\n",
    "    test_loss = testing(model , test_data , criterion)\n",
    "    train_losses.append(train_loss)\n",
    "    test_losses.append(test_loss)\n",
    "\n",
    "    print(f\"train_loss = {train_loss} | test_loss = {test_loss}\")"
   ]
  },
  {
   "cell_type": "markdown",
   "id": "2d70256e",
   "metadata": {},
   "source": [
    "### Unfortunately , i cannot optimize my model or training it longer because the lack of resources of mine"
   ]
  },
  {
   "cell_type": "code",
   "execution_count": null,
   "id": "e946391e",
   "metadata": {},
   "outputs": [],
   "source": []
  }
 ],
 "metadata": {
  "kernelspec": {
   "display_name": "Python 3 (ipykernel)",
   "language": "python",
   "name": "python3"
  },
  "language_info": {
   "codemirror_mode": {
    "name": "ipython",
    "version": 3
   },
   "file_extension": ".py",
   "mimetype": "text/x-python",
   "name": "python",
   "nbconvert_exporter": "python",
   "pygments_lexer": "ipython3",
   "version": "3.9.7"
  }
 },
 "nbformat": 4,
 "nbformat_minor": 5
}
