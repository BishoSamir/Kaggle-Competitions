{
 "cells": [
  {
   "cell_type": "code",
   "execution_count": 1,
   "id": "7e7d1df2",
   "metadata": {},
   "outputs": [],
   "source": [
    "import torch"
   ]
  },
  {
   "cell_type": "code",
   "execution_count": 6,
   "id": "a510c9f9",
   "metadata": {},
   "outputs": [],
   "source": [
    "def training(model , train_df , criterion , optimizer):\n",
    "    train_loss = 0 \n",
    "    model.train()\n",
    "    for X ,y in train_df:\n",
    "        X , y = X.to('cuda') , y.to('cuda')\n",
    "        y_pred = model(X)\n",
    "        loss = criterion(y_pred.squeeze(1) , y)\n",
    "        train_loss += loss\n",
    "        \n",
    "        optimizer.zero_grad()\n",
    "        loss.backward()\n",
    "        optimizer.step()\n",
    "        \n",
    "    train_loss /= len(train_df)\n",
    "    return train_loss\n",
    "        "
   ]
  },
  {
   "cell_type": "code",
   "execution_count": 7,
   "id": "3be2428d",
   "metadata": {},
   "outputs": [],
   "source": [
    "def testing(model , test_df , criterion):\n",
    "    test_loss = 0\n",
    "    model.eval()\n",
    "    with torch.inference_mode():\n",
    "        for X , y in test_df:\n",
    "            X , y = X.to('cuda') , y.to('cuda')\n",
    "            y_pred = model(X)\n",
    "            loss = criterion(y_pred.squeeze(1) , y)\n",
    "            test_loss += loss\n",
    "       \ttest_loss /= len(test_df)\n",
    "    return test_loss"
   ]
  },
  {
   "cell_type": "code",
   "execution_count": null,
   "id": "8c35d2b9",
   "metadata": {},
   "outputs": [],
   "source": []
  }
 ],
 "metadata": {
  "kernelspec": {
   "display_name": "Python 3 (ipykernel)",
   "language": "python",
   "name": "python3"
  },
  "language_info": {
   "codemirror_mode": {
    "name": "ipython",
    "version": 3
   },
   "file_extension": ".py",
   "mimetype": "text/x-python",
   "name": "python",
   "nbconvert_exporter": "python",
   "pygments_lexer": "ipython3",
   "version": "3.9.7"
  }
 },
 "nbformat": 4,
 "nbformat_minor": 5
}
