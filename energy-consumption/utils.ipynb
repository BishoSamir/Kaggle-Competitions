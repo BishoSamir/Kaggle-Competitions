{
 "cells": [
  {
   "cell_type": "code",
   "execution_count": 1,
   "id": "d8bbacea",
   "metadata": {},
   "outputs": [],
   "source": [
    "import pandas as pd \n",
    "from dateutil import parser"
   ]
  },
  {
   "cell_type": "code",
   "execution_count": 2,
   "id": "fa8dc576",
   "metadata": {},
   "outputs": [
    {
     "data": {
      "text/html": [
       "<div>\n",
       "<style scoped>\n",
       "    .dataframe tbody tr th:only-of-type {\n",
       "        vertical-align: middle;\n",
       "    }\n",
       "\n",
       "    .dataframe tbody tr th {\n",
       "        vertical-align: top;\n",
       "    }\n",
       "\n",
       "    .dataframe thead th {\n",
       "        text-align: right;\n",
       "    }\n",
       "</style>\n",
       "<table border=\"1\" class=\"dataframe\">\n",
       "  <thead>\n",
       "    <tr style=\"text-align: right;\">\n",
       "      <th></th>\n",
       "      <th>Datetime</th>\n",
       "      <th>PJME_MW</th>\n",
       "    </tr>\n",
       "  </thead>\n",
       "  <tbody>\n",
       "    <tr>\n",
       "      <th>0</th>\n",
       "      <td>2002-01-01 01:00:00</td>\n",
       "      <td>30393.0</td>\n",
       "    </tr>\n",
       "    <tr>\n",
       "      <th>1</th>\n",
       "      <td>2002-01-01 02:00:00</td>\n",
       "      <td>29265.0</td>\n",
       "    </tr>\n",
       "    <tr>\n",
       "      <th>2</th>\n",
       "      <td>2002-01-01 03:00:00</td>\n",
       "      <td>28357.0</td>\n",
       "    </tr>\n",
       "    <tr>\n",
       "      <th>3</th>\n",
       "      <td>2002-01-01 04:00:00</td>\n",
       "      <td>27899.0</td>\n",
       "    </tr>\n",
       "    <tr>\n",
       "      <th>4</th>\n",
       "      <td>2002-01-01 05:00:00</td>\n",
       "      <td>28057.0</td>\n",
       "    </tr>\n",
       "  </tbody>\n",
       "</table>\n",
       "</div>"
      ],
      "text/plain": [
       "             Datetime  PJME_MW\n",
       "0 2002-01-01 01:00:00  30393.0\n",
       "1 2002-01-01 02:00:00  29265.0\n",
       "2 2002-01-01 03:00:00  28357.0\n",
       "3 2002-01-01 04:00:00  27899.0\n",
       "4 2002-01-01 05:00:00  28057.0"
      ]
     },
     "execution_count": 2,
     "metadata": {},
     "output_type": "execute_result"
    }
   ],
   "source": [
    "df = pd.read_csv(\"../PJME_hourly.csv\")\n",
    "df['Datetime'] = pd.to_datetime(df['Datetime'])\n",
    "df = df.sort_values(by = 'Datetime')\n",
    "df.reset_index(inplace = True , drop = True)\n",
    "df.head()"
   ]
  },
  {
   "cell_type": "code",
   "execution_count": 3,
   "id": "6829651f",
   "metadata": {},
   "outputs": [],
   "source": [
    "class FeatureEngineering:\n",
    "    DAYS_IN_MONTH = [31 , 28 , 31 , 30 , 31 , 30 , 31 , 31 , 30 , 31 , 30 , 31]\n",
    "    \n",
    "    def getProperDay(self,month ):\n",
    "        return  self.DAYS_IN_MONTH[month-1]\n",
    "    \n",
    "    \n",
    "    def getLastMonthHelper(self , value , planB):\n",
    "         try:\n",
    "            value = parser.parse(value)\n",
    "        except: \n",
    "            planB = parser.parse(planB)\n",
    "        \n",
    "        if type(value) == str :\n",
    "            value = planB\n",
    "\n",
    "        ans = df[df['Datetime'] == value]['PJME_MW']\n",
    "        return ans \n",
    "    \n",
    "    def getLastMonth(self , date  , df ):\n",
    "        day = date.day\n",
    "        month = date.month\n",
    "        year = date.year\n",
    "        hour = date.hour\n",
    "        if month == 1:\n",
    "            month = 13\n",
    "            year -= 1\n",
    "            \n",
    "        value = f\"{month-1}-{day}-{year} {hour}:00:00\"\n",
    "        planB = f\"{month-1}-{self.getProperDay(month-1)}-{year} {hour}:00:00\"\n",
    "\n",
    "        ans =  self.getLastMonthHelper(value , planB)\n",
    "        if ans.any():\n",
    "            return ans.iloc[0]\n",
    "        \n",
    "        return df[df['Datetime'] == date]['PJME_MW'].iloc[0]\n",
    "    "
   ]
  },
  {
   "cell_type": "code",
   "execution_count": 4,
   "id": "1aa3da06",
   "metadata": {},
   "outputs": [],
   "source": [
    "def handleMissings(lastWeek , sameValue):\n",
    "    \n",
    "    if str(lastWeek) == 'nan':\n",
    "        return sameValue    \n",
    "    return lastWeek\n",
    "\n",
    "FE = FeatureEngineering()\n",
    "df['lastMonth'] = df['Datetime'].apply(lambda x : FE.getLastMonth(x , df))\n",
    "df['lastWeek'] = df['PJME_MW'].shift(168)\n",
    "df['lastWeek'] = df.apply(lambda x : handleMissings(x['lastWeek'] , x['PJME_MW']) , axis = 1 )"
   ]
  },
  {
   "cell_type": "markdown",
   "id": "c9fa6ba9",
   "metadata": {},
   "source": [
    "### Validate Feature Engineering Phase"
   ]
  },
  {
   "cell_type": "code",
   "execution_count": 5,
   "id": "fa027e3d",
   "metadata": {},
   "outputs": [
    {
     "data": {
      "text/html": [
       "<div>\n",
       "<style scoped>\n",
       "    .dataframe tbody tr th:only-of-type {\n",
       "        vertical-align: middle;\n",
       "    }\n",
       "\n",
       "    .dataframe tbody tr th {\n",
       "        vertical-align: top;\n",
       "    }\n",
       "\n",
       "    .dataframe thead th {\n",
       "        text-align: right;\n",
       "    }\n",
       "</style>\n",
       "<table border=\"1\" class=\"dataframe\">\n",
       "  <thead>\n",
       "    <tr style=\"text-align: right;\">\n",
       "      <th></th>\n",
       "      <th>Datetime</th>\n",
       "      <th>PJME_MW</th>\n",
       "      <th>lastMonth</th>\n",
       "      <th>lastWeek</th>\n",
       "    </tr>\n",
       "  </thead>\n",
       "  <tbody>\n",
       "    <tr>\n",
       "      <th>0</th>\n",
       "      <td>2002-01-01 01:00:00</td>\n",
       "      <td>30393.0</td>\n",
       "      <td>30393.0</td>\n",
       "      <td>30393.0</td>\n",
       "    </tr>\n",
       "    <tr>\n",
       "      <th>1</th>\n",
       "      <td>2002-01-01 02:00:00</td>\n",
       "      <td>29265.0</td>\n",
       "      <td>29265.0</td>\n",
       "      <td>29265.0</td>\n",
       "    </tr>\n",
       "    <tr>\n",
       "      <th>2</th>\n",
       "      <td>2002-01-01 03:00:00</td>\n",
       "      <td>28357.0</td>\n",
       "      <td>28357.0</td>\n",
       "      <td>28357.0</td>\n",
       "    </tr>\n",
       "    <tr>\n",
       "      <th>3</th>\n",
       "      <td>2002-01-01 04:00:00</td>\n",
       "      <td>27899.0</td>\n",
       "      <td>27899.0</td>\n",
       "      <td>27899.0</td>\n",
       "    </tr>\n",
       "    <tr>\n",
       "      <th>4</th>\n",
       "      <td>2002-01-01 05:00:00</td>\n",
       "      <td>28057.0</td>\n",
       "      <td>28057.0</td>\n",
       "      <td>28057.0</td>\n",
       "    </tr>\n",
       "  </tbody>\n",
       "</table>\n",
       "</div>"
      ],
      "text/plain": [
       "             Datetime  PJME_MW  lastMonth  lastWeek\n",
       "0 2002-01-01 01:00:00  30393.0    30393.0   30393.0\n",
       "1 2002-01-01 02:00:00  29265.0    29265.0   29265.0\n",
       "2 2002-01-01 03:00:00  28357.0    28357.0   28357.0\n",
       "3 2002-01-01 04:00:00  27899.0    27899.0   27899.0\n",
       "4 2002-01-01 05:00:00  28057.0    28057.0   28057.0"
      ]
     },
     "execution_count": 5,
     "metadata": {},
     "output_type": "execute_result"
    }
   ],
   "source": [
    "df.head()"
   ]
  },
  {
   "cell_type": "code",
   "execution_count": 15,
   "id": "d26fd8c9",
   "metadata": {},
   "outputs": [
    {
     "data": {
      "text/plain": [
       "'2008-03-12 06:00:00'"
      ]
     },
     "execution_count": 15,
     "metadata": {},
     "output_type": "execute_result"
    }
   ],
   "source": [
    "#check if everythings works well \n",
    "testValue = str(df.Datetime.sample(1).iloc[0])\n",
    "testValue"
   ]
  },
  {
   "cell_type": "code",
   "execution_count": 16,
   "id": "6b61083b",
   "metadata": {},
   "outputs": [
    {
     "data": {
      "text/html": [
       "<div>\n",
       "<style scoped>\n",
       "    .dataframe tbody tr th:only-of-type {\n",
       "        vertical-align: middle;\n",
       "    }\n",
       "\n",
       "    .dataframe tbody tr th {\n",
       "        vertical-align: top;\n",
       "    }\n",
       "\n",
       "    .dataframe thead th {\n",
       "        text-align: right;\n",
       "    }\n",
       "</style>\n",
       "<table border=\"1\" class=\"dataframe\">\n",
       "  <thead>\n",
       "    <tr style=\"text-align: right;\">\n",
       "      <th></th>\n",
       "      <th>Datetime</th>\n",
       "      <th>PJME_MW</th>\n",
       "      <th>lastMonth</th>\n",
       "      <th>lastWeek</th>\n",
       "    </tr>\n",
       "  </thead>\n",
       "  <tbody>\n",
       "    <tr>\n",
       "      <th>54280</th>\n",
       "      <td>2008-03-12 06:00:00</td>\n",
       "      <td>29219.0</td>\n",
       "      <td>36706.0</td>\n",
       "      <td>24565.0</td>\n",
       "    </tr>\n",
       "  </tbody>\n",
       "</table>\n",
       "</div>"
      ],
      "text/plain": [
       "                 Datetime  PJME_MW  lastMonth  lastWeek\n",
       "54280 2008-03-12 06:00:00  29219.0    36706.0   24565.0"
      ]
     },
     "execution_count": 16,
     "metadata": {},
     "output_type": "execute_result"
    }
   ],
   "source": [
    "df[df['Datetime']==testValue]"
   ]
  },
  {
   "cell_type": "code",
   "execution_count": 26,
   "id": "7f2aa7c8",
   "metadata": {},
   "outputs": [
    {
     "data": {
      "text/plain": [
       "(Datetime     2008-02-12 06:00:00\n",
       " PJME_MW                  36706.0\n",
       " lastMonth                26247.0\n",
       " lastWeek                 29565.0\n",
       " Name: 53585, dtype: object,\n",
       " Datetime     2008-03-05 05:00:00\n",
       " PJME_MW                  24565.0\n",
       " lastMonth                27368.0\n",
       " lastWeek                 28409.0\n",
       " Name: 54112, dtype: object)"
      ]
     },
     "execution_count": 26,
     "metadata": {},
     "output_type": "execute_result"
    }
   ],
   "source": [
    "df[ (df['Datetime'] == '2008-02-12 06:00:00')].iloc[0] , df.iloc[54280-168]"
   ]
  },
  {
   "cell_type": "markdown",
   "id": "ffe7f986",
   "metadata": {},
   "source": [
    "### Great, Seems Like everything's works well "
   ]
  },
  {
   "cell_type": "code",
   "execution_count": 27,
   "id": "698c2f23",
   "metadata": {},
   "outputs": [],
   "source": [
    "df.to_csv(\"energy.csv\" , index = False)"
   ]
  },
  {
   "cell_type": "code",
   "execution_count": 28,
   "id": "11c0d2a7",
   "metadata": {},
   "outputs": [
    {
     "data": {
      "text/html": [
       "<div>\n",
       "<style scoped>\n",
       "    .dataframe tbody tr th:only-of-type {\n",
       "        vertical-align: middle;\n",
       "    }\n",
       "\n",
       "    .dataframe tbody tr th {\n",
       "        vertical-align: top;\n",
       "    }\n",
       "\n",
       "    .dataframe thead th {\n",
       "        text-align: right;\n",
       "    }\n",
       "</style>\n",
       "<table border=\"1\" class=\"dataframe\">\n",
       "  <thead>\n",
       "    <tr style=\"text-align: right;\">\n",
       "      <th></th>\n",
       "      <th>Datetime</th>\n",
       "      <th>PJME_MW</th>\n",
       "      <th>lastMonth</th>\n",
       "      <th>lastWeek</th>\n",
       "    </tr>\n",
       "  </thead>\n",
       "  <tbody>\n",
       "    <tr>\n",
       "      <th>0</th>\n",
       "      <td>2002-01-01 01:00:00</td>\n",
       "      <td>30393.0</td>\n",
       "      <td>30393.0</td>\n",
       "      <td>30393.0</td>\n",
       "    </tr>\n",
       "    <tr>\n",
       "      <th>1</th>\n",
       "      <td>2002-01-01 02:00:00</td>\n",
       "      <td>29265.0</td>\n",
       "      <td>29265.0</td>\n",
       "      <td>29265.0</td>\n",
       "    </tr>\n",
       "    <tr>\n",
       "      <th>2</th>\n",
       "      <td>2002-01-01 03:00:00</td>\n",
       "      <td>28357.0</td>\n",
       "      <td>28357.0</td>\n",
       "      <td>28357.0</td>\n",
       "    </tr>\n",
       "    <tr>\n",
       "      <th>3</th>\n",
       "      <td>2002-01-01 04:00:00</td>\n",
       "      <td>27899.0</td>\n",
       "      <td>27899.0</td>\n",
       "      <td>27899.0</td>\n",
       "    </tr>\n",
       "    <tr>\n",
       "      <th>4</th>\n",
       "      <td>2002-01-01 05:00:00</td>\n",
       "      <td>28057.0</td>\n",
       "      <td>28057.0</td>\n",
       "      <td>28057.0</td>\n",
       "    </tr>\n",
       "    <tr>\n",
       "      <th>...</th>\n",
       "      <td>...</td>\n",
       "      <td>...</td>\n",
       "      <td>...</td>\n",
       "      <td>...</td>\n",
       "    </tr>\n",
       "    <tr>\n",
       "      <th>145361</th>\n",
       "      <td>2018-08-02 20:00:00</td>\n",
       "      <td>44057.0</td>\n",
       "      <td>54644.0</td>\n",
       "      <td>46337.0</td>\n",
       "    </tr>\n",
       "    <tr>\n",
       "      <th>145362</th>\n",
       "      <td>2018-08-02 21:00:00</td>\n",
       "      <td>43256.0</td>\n",
       "      <td>52757.0</td>\n",
       "      <td>44542.0</td>\n",
       "    </tr>\n",
       "    <tr>\n",
       "      <th>145363</th>\n",
       "      <td>2018-08-02 22:00:00</td>\n",
       "      <td>41552.0</td>\n",
       "      <td>50685.0</td>\n",
       "      <td>42638.0</td>\n",
       "    </tr>\n",
       "    <tr>\n",
       "      <th>145364</th>\n",
       "      <td>2018-08-02 23:00:00</td>\n",
       "      <td>38500.0</td>\n",
       "      <td>46833.0</td>\n",
       "      <td>39276.0</td>\n",
       "    </tr>\n",
       "    <tr>\n",
       "      <th>145365</th>\n",
       "      <td>2018-08-03 00:00:00</td>\n",
       "      <td>35486.0</td>\n",
       "      <td>42919.0</td>\n",
       "      <td>35742.0</td>\n",
       "    </tr>\n",
       "  </tbody>\n",
       "</table>\n",
       "<p>145366 rows × 4 columns</p>\n",
       "</div>"
      ],
      "text/plain": [
       "                   Datetime  PJME_MW  lastMonth  lastWeek\n",
       "0       2002-01-01 01:00:00  30393.0    30393.0   30393.0\n",
       "1       2002-01-01 02:00:00  29265.0    29265.0   29265.0\n",
       "2       2002-01-01 03:00:00  28357.0    28357.0   28357.0\n",
       "3       2002-01-01 04:00:00  27899.0    27899.0   27899.0\n",
       "4       2002-01-01 05:00:00  28057.0    28057.0   28057.0\n",
       "...                     ...      ...        ...       ...\n",
       "145361  2018-08-02 20:00:00  44057.0    54644.0   46337.0\n",
       "145362  2018-08-02 21:00:00  43256.0    52757.0   44542.0\n",
       "145363  2018-08-02 22:00:00  41552.0    50685.0   42638.0\n",
       "145364  2018-08-02 23:00:00  38500.0    46833.0   39276.0\n",
       "145365  2018-08-03 00:00:00  35486.0    42919.0   35742.0\n",
       "\n",
       "[145366 rows x 4 columns]"
      ]
     },
     "execution_count": 28,
     "metadata": {},
     "output_type": "execute_result"
    }
   ],
   "source": [
    "pd.read_csv(\"energy.csv\")"
   ]
  },
  {
   "cell_type": "code",
   "execution_count": null,
   "id": "427b6697",
   "metadata": {},
   "outputs": [],
   "source": []
  }
 ],
 "metadata": {
  "kernelspec": {
   "display_name": "Python 3 (ipykernel)",
   "language": "python",
   "name": "python3"
  },
  "language_info": {
   "codemirror_mode": {
    "name": "ipython",
    "version": 3
   },
   "file_extension": ".py",
   "mimetype": "text/x-python",
   "name": "python",
   "nbconvert_exporter": "python",
   "pygments_lexer": "ipython3",
   "version": "3.9.7"
  }
 },
 "nbformat": 4,
 "nbformat_minor": 5
}
