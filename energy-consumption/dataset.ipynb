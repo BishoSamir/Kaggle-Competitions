{
 "cells": [
  {
   "cell_type": "code",
   "execution_count": 1,
   "id": "f843300c",
   "metadata": {},
   "outputs": [],
   "source": [
    "import pandas as pd \n",
    "import numpy as np \n",
    "import matplotlib.pyplot as plt\n",
    "import torch \n",
    "from torch.utils.data import DataLoader , Dataset\n",
    "from sklearn.preprocessing import MinMaxScaler"
   ]
  },
  {
   "cell_type": "code",
   "execution_count": 2,
   "id": "d9e0d3de",
   "metadata": {},
   "outputs": [],
   "source": [
    "class EnergyConsumption(Dataset):\n",
    "    def __init__(self, df , seq_length):\n",
    "        self.x , self.y = self.slidingWindow(df, seq_length)\n",
    "        self.samples = len(self.y)\n",
    "        \n",
    "    def __getitem__(self , index):\n",
    "        return self.x[index] , self.y[index]\n",
    "        \n",
    "    def __len__(self):\n",
    "        return self.samples \n",
    "    \n",
    "    def slidingWindow(self , df , seq_length):\n",
    "        xs = []\n",
    "        ys = []\n",
    "        for i in range( len(df) - seq_length):\n",
    "            x = df[i : i+seq_length]\n",
    "            y = df[i+seq_length][0]\n",
    "            xs.append(x) \n",
    "            ys.append(y)\n",
    "        \n",
    "       \txs , ys = np.array(xs) , np.array(ys) \n",
    "        xs , ys = torch.tensor(xs , dtype=torch.float32), torch.tensor(ys , dtype=torch.float32)\n",
    "        return xs , ys"
   ]
  },
  {
   "cell_type": "code",
   "execution_count": 3,
   "id": "9c4fce03",
   "metadata": {},
   "outputs": [],
   "source": [
    "def getData():\n",
    "    scaler = MinMaxScaler()\n",
    "    df = pd.read_csv(\"energy.csv\").drop(\"Datetime\" , axis = 1)\n",
    "    seq_lenght = 168\n",
    "    train_size = int(len(df) * 0.9)\n",
    "    train_data = df[:train_size] \n",
    "    test_data = df[train_size:]\n",
    "    \n",
    "    train_data = scaler.fit_transform(train_data)\n",
    "    test_data = scaler.transform(test_data)\n",
    "    train_data = EnergyConsumption(train_data , seq_lenght)\n",
    "    test_data= EnergyConsumption(test_data , seq_lenght)\n",
    "\n",
    "    train_loader = DataLoader(dataset = train_data , batch_size=64 , shuffle=False)\n",
    "    test_loader = DataLoader(dataset = test_data , batch_size=64 , shuffle=False)\n",
    "\n",
    "    return train_loader , test_loader\n"
   ]
  },
  {
   "cell_type": "code",
   "execution_count": null,
   "id": "3a1987c9",
   "metadata": {},
   "outputs": [],
   "source": []
  }
 ],
 "metadata": {
  "kernelspec": {
   "display_name": "Python 3 (ipykernel)",
   "language": "python",
   "name": "python3"
  },
  "language_info": {
   "codemirror_mode": {
    "name": "ipython",
    "version": 3
   },
   "file_extension": ".py",
   "mimetype": "text/x-python",
   "name": "python",
   "nbconvert_exporter": "python",
   "pygments_lexer": "ipython3",
   "version": "3.9.7"
  }
 },
 "nbformat": 4,
 "nbformat_minor": 5
}
