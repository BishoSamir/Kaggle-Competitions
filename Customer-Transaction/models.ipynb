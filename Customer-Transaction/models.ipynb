{
 "cells": [
  {
   "cell_type": "code",
   "execution_count": 1,
   "id": "bef49c5c",
   "metadata": {},
   "outputs": [],
   "source": [
    "import torch \n",
    "import torch.nn as nn\n",
    "import torch.optim as optim\n",
    "import torch.nn.functional as F\n",
    "from torch.utils.data import DataLoader , Dataset\n",
    "import torchvision.datasets as datasets \n",
    "import torchvision.transforms as transforms"
   ]
  },
  {
   "cell_type": "code",
   "execution_count": 2,
   "id": "cf17dd16",
   "metadata": {},
   "outputs": [
    {
     "data": {
      "text/plain": [
       "torch.Size([512, 1])"
      ]
     },
     "execution_count": 2,
     "metadata": {},
     "output_type": "execute_result"
    }
   ],
   "source": [
    "class basic_NN(nn.Module):\n",
    "    def __init__(self , input_size , hidden_size ):\n",
    "        super().__init__()\n",
    "        self.layers = nn.Sequential(\n",
    "            nn.Linear(input_size , hidden_size) , \n",
    "            nn.ReLU(),\n",
    "            nn.BatchNorm1d(hidden_size) , \n",
    "            nn.Linear(hidden_size , 1)\n",
    "        )\n",
    "        \n",
    "    def forward(self , x):\n",
    "        return self.layers(x)\n",
    "check_model = basic_NN(200 , 64).to('cuda')\n",
    "\n",
    "check_model(torch.randn(512 , 200).to('cuda')).shape"
   ]
  },
  {
   "cell_type": "code",
   "execution_count": 3,
   "id": "7ac300c7",
   "metadata": {},
   "outputs": [
    {
     "data": {
      "text/plain": [
       "torch.Size([512, 1])"
      ]
     },
     "execution_count": 3,
     "metadata": {},
     "output_type": "execute_result"
    }
   ],
   "source": [
    "class improved_NN(nn.Module):\n",
    "    def __init__(self , input_size , hidden_size , hidden2 , hidden3):\n",
    "        super().__init__()\n",
    "        self.fc11 = nn.Linear(1 , hidden_size) \n",
    "        #self.fc12 = nn.Linear(hidden_size*input_size , 1)\n",
    "        self.relu = nn.ReLU()\n",
    "        self.bn_input = nn.BatchNorm1d(input_size)\n",
    "        self.bn_hidden1 = nn.BatchNorm1d(input_size*hidden_size)\n",
    "        \n",
    "        self.fc21 = nn.Linear(1 , hidden2)\n",
    "        #self.fc22 = nn.Linear(hidden2*input_size , 1)\n",
    "        self.bn_hidden2 = nn.BatchNorm1d(input_size*hidden2)\n",
    "        \n",
    "        self.fc31 = nn.Linear(1 , hidden3)\n",
    "        #self.fc32 = nn.Linear(hidden3*input_size , 1)\n",
    "        self.bn_hidden3 = nn.BatchNorm1d(input_size*hidden3)\n",
    "        \n",
    "        self.all = nn.Linear(input_size*(hidden_size+hidden2+hidden3) , 1)\n",
    "        self.dropout = nn.Dropout(0.5)\n",
    "        \n",
    "    def forward(self , x):  \n",
    "        #i can do all process in one step,but i will leave it like that to help you figure out \n",
    "        # what i did here and why that is right computationally and conceptually\n",
    "        # remove (#) and look to shape in each step to help you\n",
    "        \n",
    "        hold = x.shape[0]\n",
    "        x = self.bn_input(x)\n",
    "        x2 = x3 = x\n",
    "        x = x.view(-1,1)\n",
    "        #print(x.shape)\n",
    "        x = self.relu( self.fc11(x) )\n",
    "        #print(x.shape)\n",
    "        x = x.reshape(hold , -1)\n",
    "        x = self.bn_hidden1(x)\n",
    "        #print(x.shape)\n",
    "        \n",
    "        x2 = x2.view(-1,1)\n",
    "        x2 = self.relu( self.fc21(x2) )\n",
    "        x2 = x2.reshape(hold , -1)\n",
    "        x2 = self.bn_hidden2(x2)\n",
    "        \n",
    "        \n",
    "        x3 = x3.view(-1,1)\n",
    "        x3 = self.relu( self.fc31(x3) )\n",
    "        x3 = x3.reshape(hold , -1)\n",
    "        x3 = self.bn_hidden3(x3)\n",
    "        \n",
    "        x = torch.cat((x,x2,x3) , 1)\n",
    "        x = self.dropout(x)\n",
    "        #print(x.shape)\n",
    "        #print(x.shape , x2.shape , x3.shape)\n",
    "        return self.all(x)\n",
    "\n",
    "check_model = improved_NN(200 , 8 , 16 , 32).to('cuda')\n",
    "check_model( torch.randn(512 , 200).to('cuda') ).shape"
   ]
  },
  {
   "cell_type": "code",
   "execution_count": 14,
   "id": "71637ae4",
   "metadata": {},
   "outputs": [
    {
     "data": {
      "text/plain": [
       "torch.Size([512, 1])"
      ]
     },
     "execution_count": 14,
     "metadata": {},
     "output_type": "execute_result"
    }
   ],
   "source": [
    "class modify_Improved_NN(nn.Module):\n",
    "    def __init__(self , input_size , hidden_size , hidden2 , hidden3):\n",
    "        super().__init__()\n",
    "        \n",
    "        self.fc11 = nn.Linear(2 , hidden_size) \n",
    "        self.bn_hidden1 = nn.BatchNorm1d(input_size//2*hidden_size)\n",
    "        \n",
    "        self.fc21 = nn.Linear(2 , hidden2)\n",
    "        self.bn_hidden2 = nn.BatchNorm1d(input_size//2*hidden2)\n",
    "        \n",
    "        self.fc31 = nn.Linear(2 , hidden3)\n",
    "        self.bn_hidden3 = nn.BatchNorm1d(input_size//2*hidden3)\n",
    "        \n",
    "        self.all = nn.Linear(input_size//2*(hidden_size) , 1)\n",
    "        self.relu = nn.ReLU()\n",
    "        self.bn_input = nn.BatchNorm1d(input_size)\n",
    "        self.dropout = nn.Dropout(0.22)\n",
    "        \n",
    "    def forward(self , x):  \n",
    "\n",
    "        n_batch = x.shape[0]\n",
    "        x = self.bn_input(x)\n",
    "        orig_features = x[: , :200].unsqueeze(2) #(N , 200 , 1)\n",
    "        generated_features = x[: , 200:].unsqueeze(2) #(N , 200 , 1)\n",
    "        x = torch.concat([orig_features , generated_features] , dim =2 ) #(N , 200 ,2)\n",
    "        #x2 = x3 = x\n",
    "        \n",
    "        x = self.relu( self.fc11(x) ) #(N , 200 ,hidden)\n",
    "        x = x.reshape(n_batch , -1)#(N , 200*hidden)\n",
    "        x = self.bn_hidden1(x)\n",
    "        \n",
    "        #x2 = self.relu( self.fc21(x2) )\n",
    "        #x2 = x2.reshape(n_batch , -1)\n",
    "        #x2 = self.bn_hidden2(x2)\n",
    "        \n",
    "        \n",
    "        #x3 = self.relu( self.fc31(x3) )\n",
    "        #x3 = x3.reshape(n_batch , -1)\n",
    "        #x3 = self.bn_hidden3(x3)\n",
    "        \n",
    "        #x = torch.cat((x,x2,x3) , 1)\n",
    "        x = self.dropout(x)\n",
    "\n",
    "        return self.all(x)\n",
    "\n",
    "check_model = modify_Improved_NN(400 , 2 , 4 , 6).to('cuda')\n",
    "check_model( torch.randn(512 , 400).to('cuda') ).shape"
   ]
  },
  {
   "cell_type": "code",
   "execution_count": null,
   "id": "34bf3f4a",
   "metadata": {},
   "outputs": [],
   "source": []
  }
 ],
 "metadata": {
  "kernelspec": {
   "display_name": "Python 3 (ipykernel)",
   "language": "python",
   "name": "python3"
  },
  "language_info": {
   "codemirror_mode": {
    "name": "ipython",
    "version": 3
   },
   "file_extension": ".py",
   "mimetype": "text/x-python",
   "name": "python",
   "nbconvert_exporter": "python",
   "pygments_lexer": "ipython3",
   "version": "3.9.7"
  }
 },
 "nbformat": 4,
 "nbformat_minor": 5
}
