{
 "cells": [
  {
   "cell_type": "code",
   "execution_count": 17,
   "id": "47814848",
   "metadata": {},
   "outputs": [],
   "source": [
    "import torch \n",
    "import pandas as pd\n",
    "import numpy as np"
   ]
  },
  {
   "cell_type": "code",
   "execution_count": 2,
   "id": "51dbe34c",
   "metadata": {},
   "outputs": [],
   "source": [
    "def training(model , train_df , criterion , optimizer , device ):\n",
    "    train_loss = 0\n",
    "    model.train()\n",
    "    for X , y in train_df:\n",
    "        X ,y = X.to(device) , y.to(device)\n",
    "        y_pred = model(X)\n",
    "        loss = criterion(y_pred.squeeze(1) , y)\n",
    "        train_loss += loss\n",
    "        \n",
    "        optimizer.zero_grad()\n",
    "        loss.backward()\n",
    "        optimizer.step()\n",
    "    \n",
    "    train_loss /= len(train_df)\n",
    "     \n",
    "    return train_loss"
   ]
  },
  {
   "cell_type": "code",
   "execution_count": 3,
   "id": "a9a493be",
   "metadata": {},
   "outputs": [],
   "source": [
    "def testing(model , test_df , criterion , device):\n",
    "    test_loss = 0\n",
    "    true_labels = []\n",
    "    pred_labels = []\n",
    "    model.eval()\n",
    "    with torch.inference_mode():\n",
    "        \n",
    "        for X ,y in test_df:\n",
    "            X ,y = X.to(device) , y.to(device)\n",
    "            y_pred = model(X)\n",
    "            \n",
    "            pred_labels += y_pred.tolist()\n",
    "            true_labels += y.tolist()\n",
    "            \n",
    "            loss = criterion(y_pred.squeeze(1) , y)\n",
    "            test_loss += loss\n",
    "        test_loss /= len(test_df)\n",
    "    \n",
    "    return test_loss , true_labels , pred_labels"
   ]
  },
  {
   "cell_type": "code",
   "execution_count": 28,
   "id": "27636026",
   "metadata": {},
   "outputs": [],
   "source": [
    "def submit(model , test_loader , ids , device):\n",
    "    preds = []\n",
    "    model.eval()\n",
    "    with torch.inference_mode():\n",
    "        for X in test_loader:\n",
    "            X = X[0].to(device)\n",
    "            y_pred = model(X).squeeze(1).float()\n",
    "            preds += y_pred.tolist()\n",
    "    \n",
    "    #print(np.array(preds))\n",
    "    df = pd.DataFrame({\n",
    "         \n",
    "        \"ID_code\" : ids.values , \n",
    "        \"target\" : np.array(preds)\n",
    "        \n",
    "    })\n",
    "    \n",
    "    df.to_csv(\"submission3.csv\" , index = False)"
   ]
  },
  {
   "cell_type": "code",
   "execution_count": null,
   "id": "6b62adfe",
   "metadata": {},
   "outputs": [],
   "source": []
  }
 ],
 "metadata": {
  "kernelspec": {
   "display_name": "Python 3 (ipykernel)",
   "language": "python",
   "name": "python3"
  },
  "language_info": {
   "codemirror_mode": {
    "name": "ipython",
    "version": 3
   },
   "file_extension": ".py",
   "mimetype": "text/x-python",
   "name": "python",
   "nbconvert_exporter": "python",
   "pygments_lexer": "ipython3",
   "version": "3.9.7"
  }
 },
 "nbformat": 4,
 "nbformat_minor": 5
}
