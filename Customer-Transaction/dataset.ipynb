{
 "cells": [
  {
   "cell_type": "code",
   "execution_count": 1,
   "id": "7b734ca2",
   "metadata": {},
   "outputs": [],
   "source": [
    "import pandas as pd\n",
    "#import numpy as np\n",
    "import torch\n",
    "from torch.utils.data import TensorDataset\n",
    "from torch.utils.data.dataset import random_split\n",
    "from math import ceil"
   ]
  },
  {
   "cell_type": "code",
   "execution_count": 2,
   "id": "12ac30f3",
   "metadata": {},
   "outputs": [],
   "source": [
    "def getData():\n",
    "    \n",
    "    train = pd.read_csv(r\"C:\\Users\\besho\\Downloads\\Standard-Transaction\\train.csv\")\n",
    "    X = train.drop(columns = ['ID_code' ,'target'])\n",
    "    y = train['target']\n",
    "    X_tensor = torch.tensor(X.values , dtype = torch.float32)\n",
    "    y_tensor = torch.tensor(y.values , dtype = torch.float32)\n",
    "    df = TensorDataset(X_tensor , y_tensor)\n",
    "    train , val = random_split(df , [(int(0.9*len(y))) , ceil(0.1 * len(y))])\n",
    "    \n",
    "    test = pd.read_csv(r\"C:\\Users\\besho\\Downloads\\Standard-Transaction\\test.csv\")\n",
    "    ids = test['ID_code']\n",
    "    X = test.drop(columns = 'ID_code')\n",
    "    X_tensor = torch.tensor(X.values , dtype = torch.float32)\n",
    "    test = TensorDataset(X_tensor)\n",
    "    \n",
    "    return train , val , test , ids\n",
    "    \n",
    "    "
   ]
  },
  {
   "cell_type": "code",
   "execution_count": 5,
   "id": "40c83144",
   "metadata": {},
   "outputs": [],
   "source": [
    "def getAllData():\n",
    "    train = pd.read_csv(\"final_dataset.csv\")\n",
    "    X = train.drop('target' , axis = 1)\n",
    "    y = train['target']\n",
    "    X_tensor = torch.tensor(X.values , dtype = torch.float32)\n",
    "    y_tensor = torch.tensor(y.values , dtype = torch.float32)\n",
    "    df = TensorDataset(X_tensor , y_tensor)\n",
    "    train , val = random_split(df , [(int(0.9*len(y))) , ceil(0.1 * len(y))])\n",
    "    \n",
    "    test = pd.read_csv(\"final_test_dataset.csv\")\n",
    "    ids = test['ID_code']\n",
    "    X = test.drop(columns = 'ID_code')\n",
    "    X_tensor = torch.tensor(X.values , dtype = torch.float32)\n",
    "    test = TensorDataset(X_tensor)\n",
    "    return train , val , df ,test"
   ]
  },
  {
   "cell_type": "code",
   "execution_count": null,
   "id": "b69a6797",
   "metadata": {},
   "outputs": [],
   "source": []
  }
 ],
 "metadata": {
  "kernelspec": {
   "display_name": "Python 3 (ipykernel)",
   "language": "python",
   "name": "python3"
  },
  "language_info": {
   "codemirror_mode": {
    "name": "ipython",
    "version": 3
   },
   "file_extension": ".py",
   "mimetype": "text/x-python",
   "name": "python",
   "nbconvert_exporter": "python",
   "pygments_lexer": "ipython3",
   "version": "3.9.7"
  }
 },
 "nbformat": 4,
 "nbformat_minor": 5
}
